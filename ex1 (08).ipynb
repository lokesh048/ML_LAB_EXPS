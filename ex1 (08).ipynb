{
 "cells": [
  {
   "cell_type": "code",
   "execution_count": 1,
   "id": "8df6342e-a0ac-4fc3-8b6f-7e7023e2da37",
   "metadata": {},
   "outputs": [],
   "source": [
    "import numpy as np\n",
    "import pandas as pd\n",
    "\n",
    "# Load dataset\n",
    "data = pd.read_csv('D:/ML lab exp/trainingexamples.csv')\n"
   ]
  },
  {
   "cell_type": "code",
   "execution_count": 2,
   "id": "e077a908",
   "metadata": {},
   "outputs": [
    {
     "name": "stdout",
     "output_type": "stream",
     "text": [
      "Initial Specific Hypothesis: ['Sunny' 'Warm' 'Normal' 'Strong' 'Warm' 'Same']\n",
      "Initial General Hypothesis: [['?', '?', '?', '?', '?', '?'], ['?', '?', '?', '?', '?', '?'], ['?', '?', '?', '?', '?', '?'], ['?', '?', '?', '?', '?', '?'], ['?', '?', '?', '?', '?', '?'], ['?', '?', '?', '?', '?', '?']]\n"
     ]
    }
   ],
   "source": [
    "# Separate concepts (features) and target (labels)\n",
    "concepts = np.array(data.iloc[:, :-1])\n",
    "target = np.array(data.iloc[:, -1])\n",
    "\n",
    "# Initialize specific_h and general_h\n",
    "specific_h = concepts[0].copy()\n",
    "general_h = [[\"?\" for _ in range(len(specific_h))] for _ in range(len(specific_h))]\n",
    "\n",
    "print(\"Initial Specific Hypothesis:\", specific_h)\n",
    "print(\"Initial General Hypothesis:\", general_h)"
   ]
  },
  {
   "cell_type": "code",
   "execution_count": 3,
   "id": "2be8d48e",
   "metadata": {},
   "outputs": [],
   "source": [
    "# Training\n",
    "for i, h in enumerate(concepts):\n",
    "    if target[i].lower() == \"yes\":  # Positive example\n",
    "        for x in range(len(specific_h)):\n",
    "            if h[x] != specific_h[x]:\n",
    "                specific_h[x] = '?'\n",
    "    elif target[i].lower() == \"no\":  # Negative example\n",
    "        for x in range(len(specific_h)):\n",
    "            if h[x] != specific_h[x]:\n",
    "                general_h[x][x] = specific_h[x]"
   ]
  },
  {
   "cell_type": "code",
   "execution_count": 4,
   "id": "bd9d96ba-d34e-4c45-b36d-de6886650e1e",
   "metadata": {},
   "outputs": [
    {
     "name": "stdout",
     "output_type": "stream",
     "text": [
      "\n",
      "Final Specific Hypothesis: ['Sunny' 'Warm' '?' 'Strong' '?' '?']\n",
      "Final General Hypothesis:\n",
      "['Sunny', '?', '?', '?', '?', '?']\n",
      "['?', 'Warm', '?', '?', '?', '?']\n",
      "['?', '?', '?', '?', '?', 'Same']\n"
     ]
    }
   ],
   "source": [
    "# Remove fully generalized hypotheses\n",
    "indices = [i for i, val in enumerate(general_h) if val == [\"?\"] * len(specific_h)]\n",
    "for i in sorted(indices, reverse=True):\n",
    "    general_h.pop(i)\n",
    "\n",
    "# Print final hypotheses\n",
    "print(\"\\nFinal Specific Hypothesis:\", specific_h)\n",
    "print(\"Final General Hypothesis:\")\n",
    "for row in general_h:\n",
    "    print(row)\n"
   ]
  },
  {
   "cell_type": "code",
   "execution_count": null,
   "id": "f40fc7ed",
   "metadata": {},
   "outputs": [],
   "source": []
  }
 ],
 "metadata": {
  "kernelspec": {
   "display_name": "Python 3",
   "language": "python",
   "name": "python3"
  },
  "language_info": {
   "codemirror_mode": {
    "name": "ipython",
    "version": 3
   },
   "file_extension": ".py",
   "mimetype": "text/x-python",
   "name": "python",
   "nbconvert_exporter": "python",
   "pygments_lexer": "ipython3",
   "version": "3.11.9"
  }
 },
 "nbformat": 4,
 "nbformat_minor": 5
}
